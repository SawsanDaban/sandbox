{
  "cells": [
    {
      "cell_type": "markdown",
      "metadata": {
        "id": "view-in-github",
        "colab_type": "text"
      },
      "source": [
        "<a href=\"https://colab.research.google.com/github/SawsanDaban/sandbox/blob/main/notebooks/sandbox.ipynb\" target=\"_parent\"><img src=\"https://colab.research.google.com/assets/colab-badge.svg\" alt=\"Open In Colab\"/></a>"
      ]
    },
    {
      "cell_type": "markdown",
      "source": [
        "# Running and Quitting\n"
      ],
      "metadata": {
        "id": "qHMTAilgM0Ao"
      },
      "id": "qHMTAilgM0Ao"
    },
    {
      "cell_type": "code",
      "execution_count": 1,
      "id": "190e338a-af60-4487-a68f-94a38bdce64c",
      "metadata": {
        "colab": {
          "base_uri": "https://localhost:8080/"
        },
        "id": "190e338a-af60-4487-a68f-94a38bdce64c",
        "outputId": "d6354607-e7da-468a-c7d9-63fda58a4f58"
      },
      "outputs": [
        {
          "output_type": "execute_result",
          "data": {
            "text/plain": [
              "4"
            ]
          },
          "metadata": {},
          "execution_count": 1
        }
      ],
      "source": [
        "2 + 2"
      ]
    },
    {
      "cell_type": "markdown",
      "source": [
        "## Markdown does most of what HTML does!\n",
        "\n",
        "This is an ordered list\n",
        "* item 1\n",
        "* item 2\n",
        "* item 3\n",
        "\n",
        "1. number 1\n",
        "2. number 2\n",
        "3. number 3\n",
        "\n",
        "# This is heading !\n",
        "\n",
        "## This is sub-heading!\n",
        "\n",
        "### This is sub-sub-heading!\n",
        "\n",
        " You can also create nestes lists.\n",
        "\n",
        " * item 1\n",
        "  * sub-item 1\n",
        "\n",
        "* item 1\n",
        "  1. number 1\n",
        "\n",
        "  You can also embed a [link](https://github.com/SawsanDaban/sandbox)!"
      ],
      "metadata": {
        "id": "1qXQc_29OSpI"
      },
      "id": "1qXQc_29OSpI"
    },
    {
      "cell_type": "markdown",
      "source": [
        "# Exercises 1\n"
      ],
      "metadata": {
        "id": "hnNwcvM4QAi4"
      },
      "id": "hnNwcvM4QAi4"
    },
    {
      "cell_type": "markdown",
      "source": [
        "### E1\n",
        "\n",
        "1. Get funding.\n",
        "2. Do work.\n",
        "  * Design experiment.\n",
        "  * Collect data.\n",
        "  * Analyze.\n",
        "3. Write up.\n",
        "4. Publish."
      ],
      "metadata": {
        "id": "mTmCuqZiQInf"
      },
      "id": "mTmCuqZiQInf"
    },
    {
      "cell_type": "markdown",
      "source": [
        "### E2\n"
      ],
      "metadata": {
        "id": "4IUXe9M-Qojs"
      },
      "id": "4IUXe9M-Qojs"
    },
    {
      "cell_type": "code",
      "source": [
        "7 * 3\n",
        "2 + 1"
      ],
      "metadata": {
        "colab": {
          "base_uri": "https://localhost:8080/"
        },
        "id": "aflpy5R3QvNp",
        "outputId": "fdffab7e-d261-4e3a-fbaf-39edb4f40402"
      },
      "id": "aflpy5R3QvNp",
      "execution_count": 2,
      "outputs": [
        {
          "output_type": "execute_result",
          "data": {
            "text/plain": [
              "3"
            ]
          },
          "metadata": {},
          "execution_count": 2
        }
      ]
    },
    {
      "cell_type": "markdown",
      "source": [
        "It only prints the result of the last instruction!"
      ],
      "metadata": {
        "id": "uS3WPVmCQxbl"
      },
      "id": "uS3WPVmCQxbl"
    },
    {
      "cell_type": "markdown",
      "source": [
        "### E3"
      ],
      "metadata": {
        "id": "rNIiPllcRGz0"
      },
      "id": "rNIiPllcRGz0"
    },
    {
      "cell_type": "code",
      "source": [
        "x = 6 * 7 + 12\n",
        "print(x)"
      ],
      "metadata": {
        "id": "8MZUWulFRJZb"
      },
      "id": "8MZUWulFRJZb",
      "execution_count": null,
      "outputs": []
    },
    {
      "cell_type": "markdown",
      "source": [
        "x = 6 * 7 + 12\n",
        "print(x)\n",
        "\n",
        "#### vs\n",
        "\n",
        "x = 6 * 7 + 12\n",
        "\n",
        "print(x)"
      ],
      "metadata": {
        "id": "2sZQsT-6Tmuc"
      },
      "id": "2sZQsT-6Tmuc"
    },
    {
      "cell_type": "markdown",
      "source": [
        "The answer is on JupyterLab."
      ],
      "metadata": {
        "id": "zE2Vd1XoRrj1"
      },
      "id": "zE2Vd1XoRrj1"
    },
    {
      "cell_type": "markdown",
      "source": [
        "## Mathimatics in text cell using LaTex"
      ],
      "metadata": {
        "id": "H_eto0EwUG9U"
      },
      "id": "H_eto0EwUG9U"
    },
    {
      "cell_type": "markdown",
      "source": [
        "### E4\n"
      ],
      "metadata": {
        "id": "SNTFXf2GRv4L"
      },
      "id": "SNTFXf2GRv4L"
    },
    {
      "cell_type": "markdown",
      "source": [
        "$\\sum_{i=1}^{N} 2^{-i} \\approx 1$"
      ],
      "metadata": {
        "id": "YDYx6S8KR6sm"
      },
      "id": "YDYx6S8KR6sm"
    },
    {
      "cell_type": "markdown",
      "source": [
        "* The $ sign indicates which operation is going to happen.\n",
        "* The _ indicates the limits of the sum.\n",
        "* The ^ idicates power of a number."
      ],
      "metadata": {
        "id": "J-6yOgAAR_v6"
      },
      "id": "J-6yOgAAR_v6"
    },
    {
      "cell_type": "markdown",
      "source": [
        "If you want the expression centered... use two dollar symbols $$ to surround the expression (instead of only one)...\n",
        "\n",
        "$$\\sum_{i=1}^{N} 2^{-i} \\approx 1$$"
      ],
      "metadata": {
        "id": "7sWDw7zrUSID"
      },
      "id": "7sWDw7zrUSID"
    },
    {
      "cell_type": "markdown",
      "source": [
        "# Variables and Assignment"
      ],
      "metadata": {
        "id": "n5bd_4oYVZSQ"
      },
      "id": "n5bd_4oYVZSQ"
    },
    {
      "cell_type": "code",
      "source": [
        "age = 24"
      ],
      "metadata": {
        "id": "Tto0KOTUSdDO"
      },
      "id": "Tto0KOTUSdDO",
      "execution_count": 32,
      "outputs": []
    },
    {
      "cell_type": "code",
      "source": [
        "first_name = \"Sawsan\""
      ],
      "metadata": {
        "id": "04Xlol0fV3Dd"
      },
      "id": "04Xlol0fV3Dd",
      "execution_count": 6,
      "outputs": []
    },
    {
      "cell_type": "code",
      "source": [
        "# age, AGE, AgE, aGE  \n",
        "# They are different "
      ],
      "metadata": {
        "id": "7Z5g4ItlV66n"
      },
      "id": "7Z5g4ItlV66n",
      "execution_count": 10,
      "outputs": []
    },
    {
      "cell_type": "markdown",
      "source": [
        "The below are conventions for defining \"protected\" or \"private\" variables. But this is just convention neither of these are really protected/private."
      ],
      "metadata": {
        "id": "GwvO9E2eWhZ1"
      },
      "id": "GwvO9E2eWhZ1"
    },
    {
      "cell_type": "code",
      "source": [
        "_semi_private_variable = 42\n",
        "__private_variable = 88"
      ],
      "metadata": {
        "id": "_exzeanoWNXU"
      },
      "id": "_exzeanoWNXU",
      "execution_count": 11,
      "outputs": []
    },
    {
      "cell_type": "code",
      "source": [
        "3+4\n",
        "5*5\n",
        "2-7"
      ],
      "metadata": {
        "colab": {
          "base_uri": "https://localhost:8080/"
        },
        "id": "9KfUUDaJWdZ5",
        "outputId": "d27b654c-7925-459a-c2c5-c1b97c05d527"
      },
      "id": "9KfUUDaJWdZ5",
      "execution_count": 12,
      "outputs": [
        {
          "output_type": "execute_result",
          "data": {
            "text/plain": [
              "-5"
            ]
          },
          "metadata": {},
          "execution_count": 12
        }
      ]
    },
    {
      "cell_type": "markdown",
      "source": [
        "Use print function to display values..."
      ],
      "metadata": {
        "id": "fyT3HDFgW8m-"
      },
      "id": "fyT3HDFgW8m-"
    },
    {
      "cell_type": "code",
      "source": [
        "print(3+4)\n",
        "print(5*5)\n",
        "print(2-7)"
      ],
      "metadata": {
        "colab": {
          "base_uri": "https://localhost:8080/"
        },
        "id": "0p8lQpNmW5Yv",
        "outputId": "36858127-ced8-4760-aa1d-17ecd25e1f20"
      },
      "id": "0p8lQpNmW5Yv",
      "execution_count": 13,
      "outputs": [
        {
          "output_type": "stream",
          "name": "stdout",
          "text": [
            "7\n",
            "25\n",
            "-5\n"
          ]
        }
      ]
    },
    {
      "cell_type": "code",
      "source": [
        "print(first_name, \"is\", age, \"years old.\")"
      ],
      "metadata": {
        "colab": {
          "base_uri": "https://localhost:8080/"
        },
        "id": "2XlRk_zUXJH2",
        "outputId": "ee41b877-cd13-4863-da9d-c6f8297cb3e8"
      },
      "id": "2XlRk_zUXJH2",
      "execution_count": 16,
      "outputs": [
        {
          "output_type": "stream",
          "name": "stdout",
          "text": [
            "Sawsan is 24 years old.\n"
          ]
        }
      ]
    },
    {
      "cell_type": "code",
      "source": [
        "print(first_name, \"is\", age, \"years old.\", sep = ' ')"
      ],
      "metadata": {
        "colab": {
          "base_uri": "https://localhost:8080/"
        },
        "id": "ksxGOuwiXjB-",
        "outputId": "8d8b337f-2be4-4ebf-86d8-a5ded73fdb57"
      },
      "id": "ksxGOuwiXjB-",
      "execution_count": 17,
      "outputs": [
        {
          "output_type": "stream",
          "name": "stdout",
          "text": [
            "Sawsan is 24 years old.\n"
          ]
        }
      ]
    },
    {
      "cell_type": "code",
      "source": [
        "print(first_name, \"is\", age, \"years old.\", sep = 'SPACE')"
      ],
      "metadata": {
        "colab": {
          "base_uri": "https://localhost:8080/"
        },
        "id": "-G8xOMgEXthv",
        "outputId": "3d622f3a-c8ed-46d3-9357-f530dac20c8e"
      },
      "id": "-G8xOMgEXthv",
      "execution_count": 18,
      "outputs": [
        {
          "output_type": "stream",
          "name": "stdout",
          "text": [
            "SawsanSPACEisSPACE24SPACEyears old.\n"
          ]
        }
      ]
    },
    {
      "cell_type": "code",
      "source": [
        "print(first_name, \"is\", age, \"years old.\", sep = ',')"
      ],
      "metadata": {
        "colab": {
          "base_uri": "https://localhost:8080/"
        },
        "id": "Q3V3Ln59Xvsh",
        "outputId": "2a22998d-957a-44ae-a83e-5c6695e2c00a"
      },
      "id": "Q3V3Ln59Xvsh",
      "execution_count": 19,
      "outputs": [
        {
          "output_type": "stream",
          "name": "stdout",
          "text": [
            "Sawsan,is,24,years old.\n"
          ]
        }
      ]
    },
    {
      "cell_type": "code",
      "source": [
        "age + 1"
      ],
      "metadata": {
        "colab": {
          "base_uri": "https://localhost:8080/"
        },
        "id": "DlgGAW2xXx6B",
        "outputId": "91a80270-c22d-49a9-99c5-fe49aa53201e"
      },
      "id": "DlgGAW2xXx6B",
      "execution_count": 33,
      "outputs": [
        {
          "output_type": "execute_result",
          "data": {
            "text/plain": [
              "25"
            ]
          },
          "metadata": {},
          "execution_count": 33
        }
      ]
    },
    {
      "cell_type": "code",
      "source": [
        "age = age + 1"
      ],
      "metadata": {
        "id": "58AN-hzhYc1U"
      },
      "id": "58AN-hzhYc1U",
      "execution_count": 34,
      "outputs": []
    },
    {
      "cell_type": "code",
      "source": [
        "age"
      ],
      "metadata": {
        "colab": {
          "base_uri": "https://localhost:8080/"
        },
        "id": "QV_HZek8YfEA",
        "outputId": "b15c8885-dace-428c-b0ef-4dc6d216723a"
      },
      "id": "QV_HZek8YfEA",
      "execution_count": 35,
      "outputs": [
        {
          "output_type": "execute_result",
          "data": {
            "text/plain": [
              "25"
            ]
          },
          "metadata": {},
          "execution_count": 35
        }
      ]
    },
    {
      "cell_type": "code",
      "source": [
        "print(first_name, \"age next year will be\", age)"
      ],
      "metadata": {
        "colab": {
          "base_uri": "https://localhost:8080/"
        },
        "id": "T_whZRrGYiHg",
        "outputId": "1c1d3cfa-f837-4d3d-9c59-a5a9345308cd"
      },
      "id": "T_whZRrGYiHg",
      "execution_count": 47,
      "outputs": [
        {
          "output_type": "stream",
          "name": "stdout",
          "text": [
            "Sawsan age next year will be 25\n"
          ]
        }
      ]
    },
    {
      "cell_type": "code",
      "source": [
        "atom_name = \"boron\""
      ],
      "metadata": {
        "id": "yhxHsPvTZYIl"
      },
      "id": "yhxHsPvTZYIl",
      "execution_count": 36,
      "outputs": []
    },
    {
      "cell_type": "code",
      "source": [
        "print(atom_name[0])"
      ],
      "metadata": {
        "colab": {
          "base_uri": "https://localhost:8080/"
        },
        "id": "dVUlOZ3QZcLJ",
        "outputId": "51f6687a-c48c-43ac-c205-82ac82ce151f"
      },
      "id": "dVUlOZ3QZcLJ",
      "execution_count": 39,
      "outputs": [
        {
          "output_type": "stream",
          "name": "stdout",
          "text": [
            "b\n"
          ]
        }
      ]
    },
    {
      "cell_type": "code",
      "source": [
        "atom_name[0:3]"
      ],
      "metadata": {
        "colab": {
          "base_uri": "https://localhost:8080/",
          "height": 35
        },
        "id": "Mq17JyyBZfIe",
        "outputId": "9f53a37e-9cd6-4226-956d-1f97cdac20ee"
      },
      "id": "Mq17JyyBZfIe",
      "execution_count": 40,
      "outputs": [
        {
          "output_type": "execute_result",
          "data": {
            "text/plain": [
              "'bor'"
            ],
            "application/vnd.google.colaboratory.intrinsic+json": {
              "type": "string"
            }
          },
          "metadata": {},
          "execution_count": 40
        }
      ]
    },
    {
      "cell_type": "code",
      "source": [
        "last_letter = atom_name[-1]\n",
        "print(last_letter)"
      ],
      "metadata": {
        "colab": {
          "base_uri": "https://localhost:8080/"
        },
        "id": "k6jCX-2YZlHc",
        "outputId": "b4aae4db-a862-454f-92db-20207d2b2eb0"
      },
      "id": "k6jCX-2YZlHc",
      "execution_count": 43,
      "outputs": [
        {
          "output_type": "stream",
          "name": "stdout",
          "text": [
            "n\n"
          ]
        }
      ]
    },
    {
      "cell_type": "code",
      "source": [
        "len(atom_name)"
      ],
      "metadata": {
        "colab": {
          "base_uri": "https://localhost:8080/"
        },
        "id": "1usipDLUZp7U",
        "outputId": "cbb07753-6496-4852-9561-d783229f9cf3"
      },
      "id": "1usipDLUZp7U",
      "execution_count": 44,
      "outputs": [
        {
          "output_type": "execute_result",
          "data": {
            "text/plain": [
              "5"
            ]
          },
          "metadata": {},
          "execution_count": 44
        }
      ]
    },
    {
      "cell_type": "code",
      "source": [
        "print(\"length is\", len(atom_name))"
      ],
      "metadata": {
        "colab": {
          "base_uri": "https://localhost:8080/"
        },
        "id": "PA8stmMFZ-Au",
        "outputId": "0d86dc89-3a1f-467d-ffe1-97000bc729a4"
      },
      "id": "PA8stmMFZ-Au",
      "execution_count": 46,
      "outputs": [
        {
          "output_type": "stream",
          "name": "stdout",
          "text": [
            "length is 5\n"
          ]
        }
      ]
    },
    {
      "cell_type": "markdown",
      "source": [
        "# Excersises 2"
      ],
      "metadata": {
        "id": "fs9EC29eah9w"
      },
      "id": "fs9EC29eah9w"
    },
    {
      "cell_type": "markdown",
      "source": [
        "### E1"
      ],
      "metadata": {
        "id": "qQkQYjNTdJGK"
      },
      "id": "qQkQYjNTdJGK"
    },
    {
      "cell_type": "code",
      "source": [
        "# Command  # Value of x   # Value of y   # Value of swap #\n",
        "x = 1.0    #              #              #               #\n",
        "y = 3.0    #              #              #               #\n",
        "swap = x   #              #              #               #\n",
        "x = y      #              #              #               #\n",
        "y = swap   #              #              #               #"
      ],
      "metadata": {
        "id": "RNXtMDRpahOj"
      },
      "id": "RNXtMDRpahOj",
      "execution_count": 48,
      "outputs": []
    },
    {
      "cell_type": "code",
      "source": [
        "# Command  # Value of x   # Value of y   # Value of swap #\n",
        "x = 1.0    # 1.0          #              #               #"
      ],
      "metadata": {
        "id": "Y2lC2EE7aIJs"
      },
      "id": "Y2lC2EE7aIJs",
      "execution_count": 52,
      "outputs": []
    },
    {
      "cell_type": "code",
      "source": [
        "x"
      ],
      "metadata": {
        "colab": {
          "base_uri": "https://localhost:8080/"
        },
        "id": "npwa7nXdbVgX",
        "outputId": "d745f339-ae88-43eb-aea7-58b38772ce38"
      },
      "id": "npwa7nXdbVgX",
      "execution_count": 53,
      "outputs": [
        {
          "output_type": "execute_result",
          "data": {
            "text/plain": [
              "1.0"
            ]
          },
          "metadata": {},
          "execution_count": 53
        }
      ]
    },
    {
      "cell_type": "code",
      "source": [
        "# Command  # Value of x   # Value of y   # Value of swap #\n",
        "x = 1.0    # 1.0          #              #               #\n",
        "y = 3.0    # 1.0          # 3.0          #               #"
      ],
      "metadata": {
        "id": "rwCMPIymbAB9"
      },
      "id": "rwCMPIymbAB9",
      "execution_count": 54,
      "outputs": []
    },
    {
      "cell_type": "code",
      "source": [
        "y"
      ],
      "metadata": {
        "colab": {
          "base_uri": "https://localhost:8080/"
        },
        "id": "Y9YQAWczbXQ1",
        "outputId": "e1edfd80-d7cd-42b7-ddbd-9004ff976e94"
      },
      "id": "Y9YQAWczbXQ1",
      "execution_count": 55,
      "outputs": [
        {
          "output_type": "execute_result",
          "data": {
            "text/plain": [
              "3.0"
            ]
          },
          "metadata": {},
          "execution_count": 55
        }
      ]
    },
    {
      "cell_type": "code",
      "source": [
        "# Command  # Value of x   # Value of y   # Value of swap #\n",
        "x = 1.0    # 1.0          #              #               #\n",
        "y = 3.0    # 1.0          # 3.0          #               #\n",
        "swap = x   # 1.0          # 3.0          #  1.0          #"
      ],
      "metadata": {
        "id": "teel8sGWbI6g"
      },
      "id": "teel8sGWbI6g",
      "execution_count": 56,
      "outputs": []
    },
    {
      "cell_type": "code",
      "source": [
        "swap"
      ],
      "metadata": {
        "colab": {
          "base_uri": "https://localhost:8080/"
        },
        "id": "kkW_lehBbY-c",
        "outputId": "07b5f9df-73eb-49e1-f025-4ff3261cdab7"
      },
      "id": "kkW_lehBbY-c",
      "execution_count": 57,
      "outputs": [
        {
          "output_type": "execute_result",
          "data": {
            "text/plain": [
              "1.0"
            ]
          },
          "metadata": {},
          "execution_count": 57
        }
      ]
    },
    {
      "cell_type": "code",
      "source": [
        "# Command  # Value of x   # Value of y   # Value of swap #\n",
        "x = 1.0    # 1.0          #              #               #\n",
        "y = 3.0    # 1.0          # 3.0          #               #\n",
        "swap = x   # 1.0          # 3.0          #  1.0          #\n",
        "x = y      # 3.0          # 3.0          #  1.0          #"
      ],
      "metadata": {
        "id": "IxZ7Pl3UbR8M"
      },
      "id": "IxZ7Pl3UbR8M",
      "execution_count": 58,
      "outputs": []
    },
    {
      "cell_type": "code",
      "source": [
        "x"
      ],
      "metadata": {
        "colab": {
          "base_uri": "https://localhost:8080/"
        },
        "id": "ZC9EMsJHbhc_",
        "outputId": "74ae9d76-8b8a-45cd-c989-a07f969b9ca5"
      },
      "id": "ZC9EMsJHbhc_",
      "execution_count": 59,
      "outputs": [
        {
          "output_type": "execute_result",
          "data": {
            "text/plain": [
              "3.0"
            ]
          },
          "metadata": {},
          "execution_count": 59
        }
      ]
    },
    {
      "cell_type": "code",
      "source": [
        "y"
      ],
      "metadata": {
        "colab": {
          "base_uri": "https://localhost:8080/"
        },
        "id": "LLN1_F8JbiCC",
        "outputId": "aede187f-cfeb-4042-f088-abf5172751f4"
      },
      "id": "LLN1_F8JbiCC",
      "execution_count": 60,
      "outputs": [
        {
          "output_type": "execute_result",
          "data": {
            "text/plain": [
              "3.0"
            ]
          },
          "metadata": {},
          "execution_count": 60
        }
      ]
    },
    {
      "cell_type": "code",
      "source": [
        "swap"
      ],
      "metadata": {
        "colab": {
          "base_uri": "https://localhost:8080/"
        },
        "id": "p1VkYmwWbiix",
        "outputId": "5f69556d-af62-449b-c1d1-f959ec648fa6"
      },
      "id": "p1VkYmwWbiix",
      "execution_count": 61,
      "outputs": [
        {
          "output_type": "execute_result",
          "data": {
            "text/plain": [
              "1.0"
            ]
          },
          "metadata": {},
          "execution_count": 61
        }
      ]
    },
    {
      "cell_type": "code",
      "source": [
        "# Command  # Value of x   # Value of y   # Value of swap #\n",
        "x = 1.0    # 1.0          #              #               #\n",
        "y = 3.0    # 1.0          # 3.0          #               #\n",
        "swap = x   # 1.0          # 3.0          #  1.0          #\n",
        "x = y      # 3.0          # 3.0          #  1.0          #\n",
        "y = swap   # 3.0          # 1.0          #  1.0          #"
      ],
      "metadata": {
        "id": "Aj2lUG1Objgb"
      },
      "id": "Aj2lUG1Objgb",
      "execution_count": 62,
      "outputs": []
    },
    {
      "cell_type": "code",
      "source": [
        "x"
      ],
      "metadata": {
        "colab": {
          "base_uri": "https://localhost:8080/"
        },
        "id": "UlNjMKc_btEP",
        "outputId": "a8be40fe-b2c2-4e93-bee7-8be922594997"
      },
      "id": "UlNjMKc_btEP",
      "execution_count": 63,
      "outputs": [
        {
          "output_type": "execute_result",
          "data": {
            "text/plain": [
              "3.0"
            ]
          },
          "metadata": {},
          "execution_count": 63
        }
      ]
    },
    {
      "cell_type": "code",
      "source": [
        "y"
      ],
      "metadata": {
        "colab": {
          "base_uri": "https://localhost:8080/"
        },
        "id": "LIMplP4obtuW",
        "outputId": "722606f6-7c0b-45b1-da44-bd31e7727e42"
      },
      "id": "LIMplP4obtuW",
      "execution_count": 64,
      "outputs": [
        {
          "output_type": "execute_result",
          "data": {
            "text/plain": [
              "1.0"
            ]
          },
          "metadata": {},
          "execution_count": 64
        }
      ]
    },
    {
      "cell_type": "code",
      "source": [
        "swap"
      ],
      "metadata": {
        "colab": {
          "base_uri": "https://localhost:8080/"
        },
        "id": "3suzzGf_buB3",
        "outputId": "1a18b447-7dd9-4600-fb6a-2a65485b1013"
      },
      "id": "3suzzGf_buB3",
      "execution_count": 65,
      "outputs": [
        {
          "output_type": "execute_result",
          "data": {
            "text/plain": [
              "1.0"
            ]
          },
          "metadata": {},
          "execution_count": 65
        }
      ]
    },
    {
      "cell_type": "markdown",
      "source": [
        "### E2"
      ],
      "metadata": {
        "id": "XzClYlumdMNT"
      },
      "id": "XzClYlumdMNT"
    },
    {
      "cell_type": "code",
      "source": [
        "initial = 'left'\n",
        "position = initial\n",
        "initial = 'right'"
      ],
      "metadata": {
        "id": "JQnTFNhNb448"
      },
      "id": "JQnTFNhNb448",
      "execution_count": 66,
      "outputs": []
    },
    {
      "cell_type": "markdown",
      "source": [
        "\n",
        "\n",
        "The answer would be \"left\"!"
      ],
      "metadata": {
        "id": "SOrOjrKKbztJ"
      },
      "id": "SOrOjrKKbztJ"
    },
    {
      "cell_type": "code",
      "source": [
        "print(position)"
      ],
      "metadata": {
        "colab": {
          "base_uri": "https://localhost:8080/"
        },
        "id": "knQWE8HcbuuK",
        "outputId": "904b979f-87dc-47af-bcad-a5b8e92ce75f"
      },
      "id": "knQWE8HcbuuK",
      "execution_count": 67,
      "outputs": [
        {
          "output_type": "stream",
          "name": "stdout",
          "text": [
            "left\n"
          ]
        }
      ]
    },
    {
      "cell_type": "markdown",
      "source": [
        "### E3"
      ],
      "metadata": {
        "id": "ZmdFIW6wdOM_"
      },
      "id": "ZmdFIW6wdOM_"
    },
    {
      "cell_type": "code",
      "source": [
        "a = 123"
      ],
      "metadata": {
        "id": "Krp_Z78cb8V2"
      },
      "id": "Krp_Z78cb8V2",
      "execution_count": 68,
      "outputs": []
    },
    {
      "cell_type": "markdown",
      "source": [
        "print(a[1]) \n",
        "\n",
        "I'll get an error"
      ],
      "metadata": {
        "id": "fdZEhdbtcK5I"
      },
      "id": "fdZEhdbtcK5I"
    },
    {
      "cell_type": "markdown",
      "source": [
        "atom_name = 'carbon'\n",
        "\n",
        "print('atom_name[1:3] is:', atom_name[1:3])\n",
        "\n",
        "It would print \"atom_name[1:3] is: ar\"."
      ],
      "metadata": {
        "id": "wQn9_64lctZw"
      },
      "id": "wQn9_64lctZw"
    },
    {
      "cell_type": "code",
      "source": [
        "atom_name = 'carbon'\n",
        "print('atom_name[1:3] is:', atom_name[1:3])"
      ],
      "metadata": {
        "colab": {
          "base_uri": "https://localhost:8080/"
        },
        "id": "dtIaXmnZcEVF",
        "outputId": "6e7feaf7-b5c9-4cca-c54e-fe8ce5e3b3ca"
      },
      "id": "dtIaXmnZcEVF",
      "execution_count": 74,
      "outputs": [
        {
          "output_type": "stream",
          "name": "stdout",
          "text": [
            "atom_name[1:3] is: ar\n"
          ]
        }
      ]
    },
    {
      "cell_type": "markdown",
      "source": [
        "### E4"
      ],
      "metadata": {
        "id": "J-gS9GJ7dQow"
      },
      "id": "J-gS9GJ7dQow"
    },
    {
      "cell_type": "code",
      "source": [
        "species_name = \"Acacia buxifolia\""
      ],
      "metadata": {
        "id": "zaJGZn_wcHqA"
      },
      "id": "zaJGZn_wcHqA",
      "execution_count": 75,
      "outputs": []
    },
    {
      "cell_type": "code",
      "source": [
        "species_name[2:8]"
      ],
      "metadata": {
        "colab": {
          "base_uri": "https://localhost:8080/",
          "height": 35
        },
        "id": "Sud-noZYdGyy",
        "outputId": "47e0d820-8b18-4eba-9439-50d0d03cd265"
      },
      "id": "Sud-noZYdGyy",
      "execution_count": 76,
      "outputs": [
        {
          "output_type": "execute_result",
          "data": {
            "text/plain": [
              "'acia b'"
            ],
            "application/vnd.google.colaboratory.intrinsic+json": {
              "type": "string"
            }
          },
          "metadata": {},
          "execution_count": 76
        }
      ]
    },
    {
      "cell_type": "code",
      "source": [
        "species_name[11:]"
      ],
      "metadata": {
        "colab": {
          "base_uri": "https://localhost:8080/",
          "height": 35
        },
        "id": "H8kvtwF2dXUV",
        "outputId": "9466085b-a8b7-4dd6-f623-d662334fa57f"
      },
      "id": "H8kvtwF2dXUV",
      "execution_count": 77,
      "outputs": [
        {
          "output_type": "execute_result",
          "data": {
            "text/plain": [
              "'folia'"
            ],
            "application/vnd.google.colaboratory.intrinsic+json": {
              "type": "string"
            }
          },
          "metadata": {},
          "execution_count": 77
        }
      ]
    },
    {
      "cell_type": "code",
      "source": [
        "species_name[:4]"
      ],
      "metadata": {
        "colab": {
          "base_uri": "https://localhost:8080/",
          "height": 35
        },
        "id": "OLrXLXemdZ4n",
        "outputId": "bffb33ed-a625-445f-b63d-4cfe7e1ef10c"
      },
      "id": "OLrXLXemdZ4n",
      "execution_count": 78,
      "outputs": [
        {
          "output_type": "execute_result",
          "data": {
            "text/plain": [
              "'Acac'"
            ],
            "application/vnd.google.colaboratory.intrinsic+json": {
              "type": "string"
            }
          },
          "metadata": {},
          "execution_count": 78
        }
      ]
    },
    {
      "cell_type": "code",
      "source": [
        "species_name[:]"
      ],
      "metadata": {
        "colab": {
          "base_uri": "https://localhost:8080/",
          "height": 35
        },
        "id": "Gzf_xUyadcDO",
        "outputId": "336cfc0b-fc6f-4f3c-dc6b-b5a434bc5f3e"
      },
      "id": "Gzf_xUyadcDO",
      "execution_count": 79,
      "outputs": [
        {
          "output_type": "execute_result",
          "data": {
            "text/plain": [
              "'Acacia buxifolia'"
            ],
            "application/vnd.google.colaboratory.intrinsic+json": {
              "type": "string"
            }
          },
          "metadata": {},
          "execution_count": 79
        }
      ]
    },
    {
      "cell_type": "code",
      "source": [
        "species_name[11:-3]"
      ],
      "metadata": {
        "colab": {
          "base_uri": "https://localhost:8080/",
          "height": 35
        },
        "id": "RB5pKfgPddms",
        "outputId": "d52f3a6e-f5da-4ba1-876b-dc20ac173f86"
      },
      "id": "RB5pKfgPddms",
      "execution_count": 80,
      "outputs": [
        {
          "output_type": "execute_result",
          "data": {
            "text/plain": [
              "'fo'"
            ],
            "application/vnd.google.colaboratory.intrinsic+json": {
              "type": "string"
            }
          },
          "metadata": {},
          "execution_count": 80
        }
      ]
    },
    {
      "cell_type": "code",
      "source": [
        "species_name[-5:-3]"
      ],
      "metadata": {
        "colab": {
          "base_uri": "https://localhost:8080/",
          "height": 35
        },
        "id": "y4gDXmGXdfpK",
        "outputId": "6433ad6e-5c4c-4274-8d5e-aa25461482d2"
      },
      "id": "y4gDXmGXdfpK",
      "execution_count": 81,
      "outputs": [
        {
          "output_type": "execute_result",
          "data": {
            "text/plain": [
              "'fo'"
            ],
            "application/vnd.google.colaboratory.intrinsic+json": {
              "type": "string"
            }
          },
          "metadata": {},
          "execution_count": 81
        }
      ]
    },
    {
      "cell_type": "code",
      "source": [
        "species_name[0:20]"
      ],
      "metadata": {
        "colab": {
          "base_uri": "https://localhost:8080/",
          "height": 35
        },
        "id": "ZxeRKLNjdhwT",
        "outputId": "e9c8c109-9160-44c4-c853-2a84b588b524"
      },
      "id": "ZxeRKLNjdhwT",
      "execution_count": 82,
      "outputs": [
        {
          "output_type": "execute_result",
          "data": {
            "text/plain": [
              "'Acacia buxifolia'"
            ],
            "application/vnd.google.colaboratory.intrinsic+json": {
              "type": "string"
            }
          },
          "metadata": {},
          "execution_count": 82
        }
      ]
    },
    {
      "cell_type": "code",
      "source": [
        "species_name[:103]"
      ],
      "metadata": {
        "colab": {
          "base_uri": "https://localhost:8080/",
          "height": 35
        },
        "id": "KCIetCUSdkOH",
        "outputId": "8f17ac74-0f36-459d-bf7d-f5c27e49713b"
      },
      "id": "KCIetCUSdkOH",
      "execution_count": 83,
      "outputs": [
        {
          "output_type": "execute_result",
          "data": {
            "text/plain": [
              "'Acacia buxifolia'"
            ],
            "application/vnd.google.colaboratory.intrinsic+json": {
              "type": "string"
            }
          },
          "metadata": {},
          "execution_count": 83
        }
      ]
    },
    {
      "cell_type": "markdown",
      "source": [
        "What happens when you choose a stop value which is out of range? \n",
        "\n",
        "It'll return the whole string without any changes.\n",
        "\n",
        "It'll give the full value."
      ],
      "metadata": {
        "id": "tUyb61gydoCd"
      },
      "id": "tUyb61gydoCd"
    },
    {
      "cell_type": "code",
      "source": [
        "species_name[-1::-1]"
      ],
      "metadata": {
        "colab": {
          "base_uri": "https://localhost:8080/",
          "height": 35
        },
        "id": "PYvkDRO6dmin",
        "outputId": "d7d616bb-1db8-4680-c79b-51d22a96d55c"
      },
      "id": "PYvkDRO6dmin",
      "execution_count": 84,
      "outputs": [
        {
          "output_type": "execute_result",
          "data": {
            "text/plain": [
              "'ailofixub aicacA'"
            ],
            "application/vnd.google.colaboratory.intrinsic+json": {
              "type": "string"
            }
          },
          "metadata": {},
          "execution_count": 84
        }
      ]
    },
    {
      "cell_type": "markdown",
      "source": [
        "# Data Types and Type Conversion"
      ],
      "metadata": {
        "id": "wYa-a4rpk7tp"
      },
      "id": "wYa-a4rpk7tp"
    },
    {
      "cell_type": "code",
      "source": [
        "type(52)"
      ],
      "metadata": {
        "colab": {
          "base_uri": "https://localhost:8080/"
        },
        "id": "QYoqUk-cf5Jv",
        "outputId": "ee05fa15-c320-464b-c484-7d0e1987fd02"
      },
      "id": "QYoqUk-cf5Jv",
      "execution_count": 85,
      "outputs": [
        {
          "output_type": "execute_result",
          "data": {
            "text/plain": [
              "int"
            ]
          },
          "metadata": {},
          "execution_count": 85
        }
      ]
    },
    {
      "cell_type": "code",
      "source": [
        "type(first_name)"
      ],
      "metadata": {
        "colab": {
          "base_uri": "https://localhost:8080/"
        },
        "id": "DQcK2B1DlQvd",
        "outputId": "79037621-d494-4ef0-f629-838c6fd3e4db"
      },
      "id": "DQcK2B1DlQvd",
      "execution_count": 86,
      "outputs": [
        {
          "output_type": "execute_result",
          "data": {
            "text/plain": [
              "str"
            ]
          },
          "metadata": {},
          "execution_count": 86
        }
      ]
    },
    {
      "cell_type": "code",
      "source": [
        "5-3"
      ],
      "metadata": {
        "colab": {
          "base_uri": "https://localhost:8080/"
        },
        "id": "w-4Zl1DLlY1t",
        "outputId": "a2d74def-d9bb-401b-b539-57f12a93bc6e"
      },
      "id": "w-4Zl1DLlY1t",
      "execution_count": 87,
      "outputs": [
        {
          "output_type": "execute_result",
          "data": {
            "text/plain": [
              "2"
            ]
          },
          "metadata": {},
          "execution_count": 87
        }
      ]
    },
    {
      "cell_type": "code",
      "source": [
        "\"hello\"+\"!\""
      ],
      "metadata": {
        "colab": {
          "base_uri": "https://localhost:8080/",
          "height": 35
        },
        "id": "5-v1UlQQleHz",
        "outputId": "889fb932-f46b-403f-c0d8-c6bac5d65ae1"
      },
      "id": "5-v1UlQQleHz",
      "execution_count": 89,
      "outputs": [
        {
          "output_type": "execute_result",
          "data": {
            "text/plain": [
              "'hello!'"
            ],
            "application/vnd.google.colaboratory.intrinsic+json": {
              "type": "string"
            }
          },
          "metadata": {},
          "execution_count": 89
        }
      ]
    },
    {
      "cell_type": "code",
      "source": [
        "'h'*3"
      ],
      "metadata": {
        "colab": {
          "base_uri": "https://localhost:8080/",
          "height": 35
        },
        "id": "t6WaqgSGlhQg",
        "outputId": "25e22d7f-f660-4099-b643-7bea3d37bfc4"
      },
      "id": "t6WaqgSGlhQg",
      "execution_count": 90,
      "outputs": [
        {
          "output_type": "execute_result",
          "data": {
            "text/plain": [
              "'hhh'"
            ],
            "application/vnd.google.colaboratory.intrinsic+json": {
              "type": "string"
            }
          },
          "metadata": {},
          "execution_count": 90
        }
      ]
    },
    {
      "cell_type": "code",
      "source": [
        "1+int(2)"
      ],
      "metadata": {
        "colab": {
          "base_uri": "https://localhost:8080/"
        },
        "id": "5YsVmBG_lwuU",
        "outputId": "f0f1d8dd-fdce-438a-d318-b2ba8bfd2aab"
      },
      "id": "5YsVmBG_lwuU",
      "execution_count": 91,
      "outputs": [
        {
          "output_type": "execute_result",
          "data": {
            "text/plain": [
              "3"
            ]
          },
          "metadata": {},
          "execution_count": 91
        }
      ]
    },
    {
      "cell_type": "code",
      "source": [
        "str(1)+'2'"
      ],
      "metadata": {
        "colab": {
          "base_uri": "https://localhost:8080/",
          "height": 35
        },
        "id": "GrVHNav7mQfh",
        "outputId": "aaa4c43a-10db-4355-8577-fbcc4e651e4b"
      },
      "id": "GrVHNav7mQfh",
      "execution_count": 92,
      "outputs": [
        {
          "output_type": "execute_result",
          "data": {
            "text/plain": [
              "'12'"
            ],
            "application/vnd.google.colaboratory.intrinsic+json": {
              "type": "string"
            }
          },
          "metadata": {},
          "execution_count": 92
        }
      ]
    },
    {
      "cell_type": "code",
      "source": [
        "int(str(1)+'2')"
      ],
      "metadata": {
        "colab": {
          "base_uri": "https://localhost:8080/"
        },
        "id": "c88tZYvPmXS3",
        "outputId": "eb0ac6b0-23d9-4e48-b9c4-c5710ffd55ef"
      },
      "id": "c88tZYvPmXS3",
      "execution_count": 93,
      "outputs": [
        {
          "output_type": "execute_result",
          "data": {
            "text/plain": [
              "12"
            ]
          },
          "metadata": {},
          "execution_count": 93
        }
      ]
    },
    {
      "cell_type": "code",
      "source": [
        "1/2"
      ],
      "metadata": {
        "colab": {
          "base_uri": "https://localhost:8080/"
        },
        "id": "wuCEl6UOm-oa",
        "outputId": "b9e25856-cc0d-48ff-f7ca-fa0a933b0fe4"
      },
      "id": "wuCEl6UOm-oa",
      "execution_count": 94,
      "outputs": [
        {
          "output_type": "execute_result",
          "data": {
            "text/plain": [
              "0.5"
            ]
          },
          "metadata": {},
          "execution_count": 94
        }
      ]
    },
    {
      "cell_type": "code",
      "source": [
        "1/2.0"
      ],
      "metadata": {
        "colab": {
          "base_uri": "https://localhost:8080/"
        },
        "id": "lbyKKzSgnFWI",
        "outputId": "7a9393d6-5550-4162-f25d-886a66ac170e"
      },
      "id": "lbyKKzSgnFWI",
      "execution_count": 95,
      "outputs": [
        {
          "output_type": "execute_result",
          "data": {
            "text/plain": [
              "0.5"
            ]
          },
          "metadata": {},
          "execution_count": 95
        }
      ]
    },
    {
      "cell_type": "markdown",
      "source": [
        "# Exercises"
      ],
      "metadata": {
        "id": "Ve_yw83LmxL0"
      },
      "id": "Ve_yw83LmxL0"
    },
    {
      "cell_type": "markdown",
      "source": [
        "### E1"
      ],
      "metadata": {
        "id": "x8Zl8K-bm0o7"
      },
      "id": "x8Zl8K-bm0o7"
    },
    {
      "cell_type": "code",
      "source": [
        "type(3.4)"
      ],
      "metadata": {
        "colab": {
          "base_uri": "https://localhost:8080/"
        },
        "id": "ehTCPK6EmeHb",
        "outputId": "5a07c40a-f667-43eb-b811-2af9d3b68d87"
      },
      "id": "ehTCPK6EmeHb",
      "execution_count": 96,
      "outputs": [
        {
          "output_type": "execute_result",
          "data": {
            "text/plain": [
              "float"
            ]
          },
          "metadata": {},
          "execution_count": 96
        }
      ]
    },
    {
      "cell_type": "markdown",
      "source": [
        "### E2"
      ],
      "metadata": {
        "id": "uD6nrB-snrYg"
      },
      "id": "uD6nrB-snrYg"
    },
    {
      "cell_type": "code",
      "source": [
        "type( 3.25 + 4)"
      ],
      "metadata": {
        "colab": {
          "base_uri": "https://localhost:8080/"
        },
        "id": "V0tX511OnmSl",
        "outputId": "427062f1-0218-49b2-afb1-082418eef385"
      },
      "id": "V0tX511OnmSl",
      "execution_count": 98,
      "outputs": [
        {
          "output_type": "execute_result",
          "data": {
            "text/plain": [
              "float"
            ]
          },
          "metadata": {},
          "execution_count": 98
        }
      ]
    },
    {
      "cell_type": "markdown",
      "source": [
        "### E3"
      ],
      "metadata": {
        "id": "MlbTg5khntSV"
      },
      "id": "MlbTg5khntSV"
    },
    {
      "cell_type": "markdown",
      "source": [
        "1. int\n",
        "2. float\n",
        "3. int => char\n",
        "4. int\n",
        "5. int => float\n",
        "6. float"
      ],
      "metadata": {
        "id": "8CbWFCb6n0yV"
      },
      "id": "8CbWFCb6n0yV"
    },
    {
      "cell_type": "markdown",
      "source": [
        "### E4"
      ],
      "metadata": {
        "id": "kl87qW7coR_w"
      },
      "id": "kl87qW7coR_w"
    },
    {
      "cell_type": "code",
      "source": [
        "print('5 // 3:', 5 // 3)\n",
        "print('5 / 3:', 5 / 3)\n",
        "print('5 % 3:', 5 % 3)"
      ],
      "metadata": {
        "colab": {
          "base_uri": "https://localhost:8080/"
        },
        "id": "oiW-Sx8SnpxU",
        "outputId": "6d3b4d33-1123-4cc1-e350-331d651d6b76"
      },
      "id": "oiW-Sx8SnpxU",
      "execution_count": 99,
      "outputs": [
        {
          "output_type": "stream",
          "name": "stdout",
          "text": [
            "5 // 3: 1\n",
            "5 / 3: 1.6666666666666667\n",
            "5 % 3: 2\n"
          ]
        }
      ]
    },
    {
      "cell_type": "code",
      "source": [
        "num_subjects = 6"
      ],
      "metadata": {
        "id": "gwvmbsdtoa2D"
      },
      "id": "gwvmbsdtoa2D",
      "execution_count": 100,
      "outputs": []
    },
    {
      "cell_type": "code",
      "source": [
        "num_per_survey = 2"
      ],
      "metadata": {
        "id": "sekMrG3Vosqk"
      },
      "id": "sekMrG3Vosqk",
      "execution_count": 103,
      "outputs": []
    },
    {
      "cell_type": "code",
      "source": [
        "print((num_subjects - 1) // num_per_survey + 1)"
      ],
      "metadata": {
        "colab": {
          "base_uri": "https://localhost:8080/"
        },
        "id": "Bzu92u23oxDm",
        "outputId": "cdf5ed53-1b07-47c4-9786-60d3b54a27db"
      },
      "id": "Bzu92u23oxDm",
      "execution_count": 104,
      "outputs": [
        {
          "output_type": "stream",
          "name": "stdout",
          "text": [
            "3\n"
          ]
        }
      ]
    },
    {
      "cell_type": "markdown",
      "source": [
        "### E5"
      ],
      "metadata": {
        "id": "G8juZVjBpKS7"
      },
      "id": "G8juZVjBpKS7"
    },
    {
      "cell_type": "markdown",
      "source": [
        "There would be an error because we cant convert \"3.5\" to integer because it has a float point."
      ],
      "metadata": {
        "id": "zvQY_HUHpXlL"
      },
      "id": "zvQY_HUHpXlL"
    },
    {
      "cell_type": "code",
      "source": [
        "print(\"fractional string to int:\", float(\"3.4\"))"
      ],
      "metadata": {
        "colab": {
          "base_uri": "https://localhost:8080/"
        },
        "id": "2pTQJsSupzxV",
        "outputId": "165a87af-976a-4d26-b451-bbcd7e52764f"
      },
      "id": "2pTQJsSupzxV",
      "execution_count": 106,
      "outputs": [
        {
          "output_type": "stream",
          "name": "stdout",
          "text": [
            "fractional string to int: 3.4\n"
          ]
        }
      ]
    },
    {
      "cell_type": "markdown",
      "source": [
        "### E6"
      ],
      "metadata": {
        "id": "8gyYnJ7PqB9Z"
      },
      "id": "8gyYnJ7PqB9Z"
    },
    {
      "cell_type": "code",
      "source": [
        "first = 1.0\n",
        "second = \"1\"\n",
        "third = \"1.1\""
      ],
      "metadata": {
        "id": "WyTlIHxgo-Hy"
      },
      "id": "WyTlIHxgo-Hy",
      "execution_count": 107,
      "outputs": []
    },
    {
      "cell_type": "code",
      "source": [
        "first + float(second)"
      ],
      "metadata": {
        "colab": {
          "base_uri": "https://localhost:8080/"
        },
        "id": "x3ldRyXqqMEV",
        "outputId": "b0fa6d27-c7ef-48d7-8719-1f303779ed64"
      },
      "id": "x3ldRyXqqMEV",
      "execution_count": 108,
      "outputs": [
        {
          "output_type": "execute_result",
          "data": {
            "text/plain": [
              "2.0"
            ]
          },
          "metadata": {},
          "execution_count": 108
        }
      ]
    },
    {
      "cell_type": "code",
      "source": [
        "float(second) + float(third)"
      ],
      "metadata": {
        "colab": {
          "base_uri": "https://localhost:8080/"
        },
        "id": "mwbgEq75qOUZ",
        "outputId": "8f9578b2-2f34-450a-ab89-75040597705b"
      },
      "id": "mwbgEq75qOUZ",
      "execution_count": 109,
      "outputs": [
        {
          "output_type": "execute_result",
          "data": {
            "text/plain": [
              "2.1"
            ]
          },
          "metadata": {},
          "execution_count": 109
        }
      ]
    },
    {
      "cell_type": "markdown",
      "source": [
        "### E7"
      ],
      "metadata": {
        "id": "54IOrLQErtvL"
      },
      "id": "54IOrLQErtvL"
    },
    {
      "cell_type": "code",
      "source": [
        "type(1+2j)"
      ],
      "metadata": {
        "colab": {
          "base_uri": "https://localhost:8080/"
        },
        "id": "r0mRfjhZr9x_",
        "outputId": "bdbb39b6-e9e7-431d-ca16-e83ace388964"
      },
      "id": "r0mRfjhZr9x_",
      "execution_count": 110,
      "outputs": [
        {
          "output_type": "execute_result",
          "data": {
            "text/plain": [
              "complex"
            ]
          },
          "metadata": {},
          "execution_count": 110
        }
      ]
    },
    {
      "cell_type": "code",
      "source": [
        "number = 1.3 + 2.5j"
      ],
      "metadata": {
        "id": "5deLL0zcsBk2"
      },
      "id": "5deLL0zcsBk2",
      "execution_count": 111,
      "outputs": []
    },
    {
      "cell_type": "code",
      "source": [
        "number"
      ],
      "metadata": {
        "colab": {
          "base_uri": "https://localhost:8080/"
        },
        "id": "dKtMY4ZSsGOE",
        "outputId": "fd64cf99-218c-4612-b0a0-922dcff06744"
      },
      "id": "dKtMY4ZSsGOE",
      "execution_count": 112,
      "outputs": [
        {
          "output_type": "execute_result",
          "data": {
            "text/plain": [
              "(1.3+2.5j)"
            ]
          },
          "metadata": {},
          "execution_count": 112
        }
      ]
    },
    {
      "cell_type": "code",
      "source": [
        "type(number)"
      ],
      "metadata": {
        "colab": {
          "base_uri": "https://localhost:8080/"
        },
        "id": "_EIYgoYfsIBS",
        "outputId": "cd3d744f-a385-4f7e-be03-a5e0debbfe3d"
      },
      "id": "_EIYgoYfsIBS",
      "execution_count": 113,
      "outputs": [
        {
          "output_type": "execute_result",
          "data": {
            "text/plain": [
              "complex"
            ]
          },
          "metadata": {},
          "execution_count": 113
        }
      ]
    },
    {
      "cell_type": "code",
      "source": [
        "pure_imaginary_number = 4j"
      ],
      "metadata": {
        "id": "VBdodmpas6Nq"
      },
      "id": "VBdodmpas6Nq",
      "execution_count": 114,
      "outputs": []
    },
    {
      "cell_type": "code",
      "source": [
        "pure_imaginary_number.real"
      ],
      "metadata": {
        "colab": {
          "base_uri": "https://localhost:8080/"
        },
        "id": "cieCnDjEs-3Y",
        "outputId": "04caa38c-eb19-4986-e26b-f6ab8093e144"
      },
      "id": "cieCnDjEs-3Y",
      "execution_count": 115,
      "outputs": [
        {
          "output_type": "execute_result",
          "data": {
            "text/plain": [
              "0.0"
            ]
          },
          "metadata": {},
          "execution_count": 115
        }
      ]
    },
    {
      "cell_type": "markdown",
      "source": [
        "Complete the excercises!"
      ],
      "metadata": {
        "id": "0NyVkJQkqXbp"
      },
      "id": "0NyVkJQkqXbp"
    },
    {
      "cell_type": "markdown",
      "source": [
        "# Built-in Function and Help"
      ],
      "metadata": {
        "id": "wRF-4HR9qbxa"
      },
      "id": "wRF-4HR9qbxa"
    },
    {
      "cell_type": "code",
      "source": [
        "# This is a single line comment"
      ],
      "metadata": {
        "id": "ZUPevKmcqbI-"
      },
      "id": "ZUPevKmcqbI-",
      "execution_count": 116,
      "outputs": []
    },
    {
      "cell_type": "code",
      "source": [
        "'''\n",
        "This \n",
        "is \n",
        "a \n",
        "multi line comment\n",
        "'''\n",
        "2+4\n"
      ],
      "metadata": {
        "colab": {
          "base_uri": "https://localhost:8080/"
        },
        "id": "Wf66ZyMEtMwx",
        "outputId": "37d52356-c35b-4316-f880-1204dd82b233"
      },
      "id": "Wf66ZyMEtMwx",
      "execution_count": 119,
      "outputs": [
        {
          "output_type": "execute_result",
          "data": {
            "text/plain": [
              "6"
            ]
          },
          "metadata": {},
          "execution_count": 119
        }
      ]
    },
    {
      "cell_type": "code",
      "source": [
        "max(1,2,3,4)"
      ],
      "metadata": {
        "colab": {
          "base_uri": "https://localhost:8080/"
        },
        "id": "ohZial9Oth1l",
        "outputId": "c717d26a-b4fe-48cc-b972-21fb52e31964"
      },
      "id": "ohZial9Oth1l",
      "execution_count": 120,
      "outputs": [
        {
          "output_type": "execute_result",
          "data": {
            "text/plain": [
              "4"
            ]
          },
          "metadata": {},
          "execution_count": 120
        }
      ]
    },
    {
      "cell_type": "code",
      "source": [
        "min(-23,4,-1000,45)"
      ],
      "metadata": {
        "colab": {
          "base_uri": "https://localhost:8080/"
        },
        "id": "5OW8Xuk1uFzm",
        "outputId": "4f851649-52fd-4164-e598-9e4787748716"
      },
      "id": "5OW8Xuk1uFzm",
      "execution_count": 121,
      "outputs": [
        {
          "output_type": "execute_result",
          "data": {
            "text/plain": [
              "-1000"
            ]
          },
          "metadata": {},
          "execution_count": 121
        }
      ]
    },
    {
      "cell_type": "code",
      "source": [
        "max('a','b','D')"
      ],
      "metadata": {
        "colab": {
          "base_uri": "https://localhost:8080/",
          "height": 35
        },
        "id": "yoopHW4wuKIE",
        "outputId": "92504435-fff4-4e19-cfe8-fea0ee2d8b72"
      },
      "id": "yoopHW4wuKIE",
      "execution_count": 122,
      "outputs": [
        {
          "output_type": "execute_result",
          "data": {
            "text/plain": [
              "'b'"
            ],
            "application/vnd.google.colaboratory.intrinsic+json": {
              "type": "string"
            }
          },
          "metadata": {},
          "execution_count": 122
        }
      ]
    },
    {
      "cell_type": "code",
      "source": [
        "min('a','b','D')"
      ],
      "metadata": {
        "colab": {
          "base_uri": "https://localhost:8080/",
          "height": 35
        },
        "id": "oC4-GRetuUVE",
        "outputId": "273f948c-6de8-4d0f-ddd6-670389a2bbfa"
      },
      "id": "oC4-GRetuUVE",
      "execution_count": 123,
      "outputs": [
        {
          "output_type": "execute_result",
          "data": {
            "text/plain": [
              "'D'"
            ],
            "application/vnd.google.colaboratory.intrinsic+json": {
              "type": "string"
            }
          },
          "metadata": {},
          "execution_count": 123
        }
      ]
    },
    {
      "cell_type": "code",
      "source": [
        "round(3.71234)"
      ],
      "metadata": {
        "colab": {
          "base_uri": "https://localhost:8080/"
        },
        "id": "zzEIA7xhuc5e",
        "outputId": "36870efe-7b15-4bbc-a4dd-dd7a56a8e8b8"
      },
      "id": "zzEIA7xhuc5e",
      "execution_count": 124,
      "outputs": [
        {
          "output_type": "execute_result",
          "data": {
            "text/plain": [
              "4"
            ]
          },
          "metadata": {},
          "execution_count": 124
        }
      ]
    },
    {
      "cell_type": "code",
      "source": [
        "round?"
      ],
      "metadata": {
        "id": "906oqDnLuhF4"
      },
      "id": "906oqDnLuhF4",
      "execution_count": 125,
      "outputs": []
    },
    {
      "cell_type": "code",
      "source": [
        "round(3.71234,2)"
      ],
      "metadata": {
        "colab": {
          "base_uri": "https://localhost:8080/"
        },
        "id": "EiTxCtz7umGV",
        "outputId": "b4922c17-453f-4b71-9e4d-b1260fa24fa3"
      },
      "id": "EiTxCtz7umGV",
      "execution_count": 126,
      "outputs": [
        {
          "output_type": "execute_result",
          "data": {
            "text/plain": [
              "3.71"
            ]
          },
          "metadata": {},
          "execution_count": 126
        }
      ]
    },
    {
      "cell_type": "code",
      "source": [
        "round(3.71234, ndigits=2)"
      ],
      "metadata": {
        "colab": {
          "base_uri": "https://localhost:8080/"
        },
        "id": "M54nlpOcuumK",
        "outputId": "637f8690-37c7-4bb8-f457-c726dcaab39d"
      },
      "id": "M54nlpOcuumK",
      "execution_count": 127,
      "outputs": [
        {
          "output_type": "execute_result",
          "data": {
            "text/plain": [
              "3.71"
            ]
          },
          "metadata": {},
          "execution_count": 127
        }
      ]
    },
    {
      "cell_type": "code",
      "source": [
        "some_string = \"Hello World\""
      ],
      "metadata": {
        "id": "JGoIFBgMux68"
      },
      "id": "JGoIFBgMux68",
      "execution_count": 128,
      "outputs": []
    },
    {
      "cell_type": "code",
      "source": [
        "some_string.capitalize()"
      ],
      "metadata": {
        "colab": {
          "base_uri": "https://localhost:8080/",
          "height": 35
        },
        "id": "QLMgXLX1u7H_",
        "outputId": "d10c4a8b-7276-40b3-930a-c512d4ce4be5"
      },
      "id": "QLMgXLX1u7H_",
      "execution_count": 129,
      "outputs": [
        {
          "output_type": "execute_result",
          "data": {
            "text/plain": [
              "'Hello world'"
            ],
            "application/vnd.google.colaboratory.intrinsic+json": {
              "type": "string"
            }
          },
          "metadata": {},
          "execution_count": 129
        }
      ]
    },
    {
      "cell_type": "code",
      "source": [
        "some_string.upper()"
      ],
      "metadata": {
        "colab": {
          "base_uri": "https://localhost:8080/",
          "height": 35
        },
        "id": "O7QiYgWMu_jB",
        "outputId": "82a33bf9-771c-4417-9213-b6acee2fb256"
      },
      "id": "O7QiYgWMu_jB",
      "execution_count": 130,
      "outputs": [
        {
          "output_type": "execute_result",
          "data": {
            "text/plain": [
              "'HELLO WORLD'"
            ],
            "application/vnd.google.colaboratory.intrinsic+json": {
              "type": "string"
            }
          },
          "metadata": {},
          "execution_count": 130
        }
      ]
    },
    {
      "cell_type": "code",
      "source": [
        "help(round)"
      ],
      "metadata": {
        "colab": {
          "base_uri": "https://localhost:8080/"
        },
        "id": "T6crQargvUa1",
        "outputId": "e38fe055-b96b-420c-b890-f839d4413500"
      },
      "id": "T6crQargvUa1",
      "execution_count": 131,
      "outputs": [
        {
          "output_type": "stream",
          "name": "stdout",
          "text": [
            "Help on built-in function round in module builtins:\n",
            "\n",
            "round(number, ndigits=None)\n",
            "    Round a number to a given precision in decimal digits.\n",
            "    \n",
            "    The return value is an integer if ndigits is omitted or None.  Otherwise\n",
            "    the return value has the same type as the number.  ndigits may be negative.\n",
            "\n"
          ]
        }
      ]
    },
    {
      "cell_type": "markdown",
      "source": [
        "# Excercises"
      ],
      "metadata": {
        "id": "2v8jCjTww987"
      },
      "id": "2v8jCjTww987"
    },
    {
      "cell_type": "markdown",
      "source": [
        "### E1"
      ],
      "metadata": {
        "id": "lQnutn7Qw9uM"
      },
      "id": "lQnutn7Qw9uM"
    },
    {
      "cell_type": "markdown",
      "source": [
        "Complete Excercises!"
      ],
      "metadata": {
        "id": "YdZMEzvSzGZc"
      },
      "id": "YdZMEzvSzGZc"
    },
    {
      "cell_type": "markdown",
      "source": [
        "# Libraries"
      ],
      "metadata": {
        "id": "0yUXq50K0_Ts"
      },
      "id": "0yUXq50K0_Ts"
    },
    {
      "cell_type": "code",
      "source": [
        "import math"
      ],
      "metadata": {
        "id": "dK4y2PKz1BKZ"
      },
      "id": "dK4y2PKz1BKZ",
      "execution_count": 132,
      "outputs": []
    },
    {
      "cell_type": "code",
      "source": [
        "math.pi"
      ],
      "metadata": {
        "colab": {
          "base_uri": "https://localhost:8080/"
        },
        "id": "IZBD1InM1FGq",
        "outputId": "1a2675ef-704d-4e81-cbf8-46b859796bdb"
      },
      "id": "IZBD1InM1FGq",
      "execution_count": 133,
      "outputs": [
        {
          "output_type": "execute_result",
          "data": {
            "text/plain": [
              "3.141592653589793"
            ]
          },
          "metadata": {},
          "execution_count": 133
        }
      ]
    },
    {
      "cell_type": "code",
      "source": [
        "math.cos(math.pi)"
      ],
      "metadata": {
        "colab": {
          "base_uri": "https://localhost:8080/"
        },
        "id": "Iwae1jOv1Kav",
        "outputId": "26408257-2f33-463c-88a4-5fba34bfe693"
      },
      "id": "Iwae1jOv1Kav",
      "execution_count": 135,
      "outputs": [
        {
          "output_type": "execute_result",
          "data": {
            "text/plain": [
              "-1.0"
            ]
          },
          "metadata": {},
          "execution_count": 135
        }
      ]
    },
    {
      "cell_type": "code",
      "source": [
        "math.sin(math.pi)"
      ],
      "metadata": {
        "colab": {
          "base_uri": "https://localhost:8080/"
        },
        "id": "cLAarN8o1QJt",
        "outputId": "efb3528b-c106-4e8e-9c20-4c239e151ede"
      },
      "id": "cLAarN8o1QJt",
      "execution_count": 136,
      "outputs": [
        {
          "output_type": "execute_result",
          "data": {
            "text/plain": [
              "1.2246467991473532e-16"
            ]
          },
          "metadata": {},
          "execution_count": 136
        }
      ]
    },
    {
      "cell_type": "code",
      "source": [
        "math.sin(math.pi) / math.cos(math.pi)"
      ],
      "metadata": {
        "colab": {
          "base_uri": "https://localhost:8080/"
        },
        "id": "dnITF57z1Z_J",
        "outputId": "e62ff300-4df0-4456-c0d2-3c1730116ed6"
      },
      "id": "dnITF57z1Z_J",
      "execution_count": 137,
      "outputs": [
        {
          "output_type": "execute_result",
          "data": {
            "text/plain": [
              "-1.2246467991473532e-16"
            ]
          },
          "metadata": {},
          "execution_count": 137
        }
      ]
    },
    {
      "cell_type": "code",
      "source": [
        "math.tan(math.pi)"
      ],
      "metadata": {
        "colab": {
          "base_uri": "https://localhost:8080/"
        },
        "id": "AmEoR_bk1j41",
        "outputId": "28992b0e-21ab-47e3-e2de-39f9ee09f3c0"
      },
      "id": "AmEoR_bk1j41",
      "execution_count": 138,
      "outputs": [
        {
          "output_type": "execute_result",
          "data": {
            "text/plain": [
              "-1.2246467991473532e-16"
            ]
          },
          "metadata": {},
          "execution_count": 138
        }
      ]
    },
    {
      "cell_type": "code",
      "source": [
        "math.tan(math.pi / 2)"
      ],
      "metadata": {
        "colab": {
          "base_uri": "https://localhost:8080/"
        },
        "id": "EKxJy03z1ou8",
        "outputId": "99eba2bf-23d0-4e71-8a99-1da9a0acf99d"
      },
      "id": "EKxJy03z1ou8",
      "execution_count": 140,
      "outputs": [
        {
          "output_type": "execute_result",
          "data": {
            "text/plain": [
              "1.633123935319537e+16"
            ]
          },
          "metadata": {},
          "execution_count": 140
        }
      ]
    },
    {
      "cell_type": "code",
      "source": [
        "math.cos(math.pi / 2)"
      ],
      "metadata": {
        "colab": {
          "base_uri": "https://localhost:8080/"
        },
        "id": "k8ffhNVv1uAm",
        "outputId": "85bf6b5c-ebba-4d69-d3f1-3fe224342173"
      },
      "id": "k8ffhNVv1uAm",
      "execution_count": 141,
      "outputs": [
        {
          "output_type": "execute_result",
          "data": {
            "text/plain": [
              "6.123233995736766e-17"
            ]
          },
          "metadata": {},
          "execution_count": 141
        }
      ]
    },
    {
      "cell_type": "code",
      "source": [
        "math.sin(math.pi / 2)"
      ],
      "metadata": {
        "colab": {
          "base_uri": "https://localhost:8080/"
        },
        "id": "_DXP9TQ516du",
        "outputId": "1e7979e5-bcce-4d11-fc51-2d1a9c69ec35"
      },
      "id": "_DXP9TQ516du",
      "execution_count": 142,
      "outputs": [
        {
          "output_type": "execute_result",
          "data": {
            "text/plain": [
              "1.0"
            ]
          },
          "metadata": {},
          "execution_count": 142
        }
      ]
    },
    {
      "cell_type": "code",
      "source": [
        "from math import cos, sin, pi, tan"
      ],
      "metadata": {
        "id": "ykT5-Y6m2Bd0"
      },
      "id": "ykT5-Y6m2Bd0",
      "execution_count": 143,
      "outputs": []
    },
    {
      "cell_type": "code",
      "source": [
        "sin(pi)/ cos(pi)"
      ],
      "metadata": {
        "colab": {
          "base_uri": "https://localhost:8080/"
        },
        "id": "RQxam_P92Wps",
        "outputId": "ea4c7adc-4495-4ebe-b675-4e5e4e8a755d"
      },
      "id": "RQxam_P92Wps",
      "execution_count": 144,
      "outputs": [
        {
          "output_type": "execute_result",
          "data": {
            "text/plain": [
              "-1.2246467991473532e-16"
            ]
          },
          "metadata": {},
          "execution_count": 144
        }
      ]
    },
    {
      "cell_type": "code",
      "source": [
        "tan(pi)"
      ],
      "metadata": {
        "colab": {
          "base_uri": "https://localhost:8080/"
        },
        "id": "KSBjh2xp2aJO",
        "outputId": "d3b4e44e-b976-4ece-dba1-40e6625de69a"
      },
      "id": "KSBjh2xp2aJO",
      "execution_count": 145,
      "outputs": [
        {
          "output_type": "execute_result",
          "data": {
            "text/plain": [
              "-1.2246467991473532e-16"
            ]
          },
          "metadata": {},
          "execution_count": 145
        }
      ]
    },
    {
      "cell_type": "code",
      "source": [
        "import math as m"
      ],
      "metadata": {
        "id": "xx8rOK1n2cMA"
      },
      "id": "xx8rOK1n2cMA",
      "execution_count": 146,
      "outputs": []
    },
    {
      "cell_type": "code",
      "source": [
        "m.pi"
      ],
      "metadata": {
        "colab": {
          "base_uri": "https://localhost:8080/"
        },
        "id": "5BQ8AEfH2fVE",
        "outputId": "6cabf8c4-4425-404f-8689-9289253114f0"
      },
      "id": "5BQ8AEfH2fVE",
      "execution_count": 147,
      "outputs": [
        {
          "output_type": "execute_result",
          "data": {
            "text/plain": [
              "3.141592653589793"
            ]
          },
          "metadata": {},
          "execution_count": 147
        }
      ]
    },
    {
      "cell_type": "code",
      "source": [
        "m.cos(m.pi)"
      ],
      "metadata": {
        "colab": {
          "base_uri": "https://localhost:8080/"
        },
        "id": "YfGr0ZY_2ge4",
        "outputId": "7b4b8f20-a8b3-4dee-8b49-a435ccb66084"
      },
      "id": "YfGr0ZY_2ge4",
      "execution_count": 148,
      "outputs": [
        {
          "output_type": "execute_result",
          "data": {
            "text/plain": [
              "-1.0"
            ]
          },
          "metadata": {},
          "execution_count": 148
        }
      ]
    },
    {
      "cell_type": "markdown",
      "source": [
        "# Excercises"
      ],
      "metadata": {
        "id": "0YwFNRyT2-mM"
      },
      "id": "0YwFNRyT2-mM"
    },
    {
      "cell_type": "code",
      "source": [
        "m.sqrt?"
      ],
      "metadata": {
        "id": "2Md-PJ042mR9"
      },
      "id": "2Md-PJ042mR9",
      "execution_count": 149,
      "outputs": []
    },
    {
      "cell_type": "code",
      "source": [
        "from math import log\n",
        "log(10)"
      ],
      "metadata": {
        "colab": {
          "base_uri": "https://localhost:8080/"
        },
        "id": "aEVTDDmh3I7F",
        "outputId": "c815676d-6e1d-41ff-fb01-38a4386d944b"
      },
      "id": "aEVTDDmh3I7F",
      "execution_count": 151,
      "outputs": [
        {
          "output_type": "execute_result",
          "data": {
            "text/plain": [
              "2.302585092994046"
            ]
          },
          "metadata": {},
          "execution_count": 151
        }
      ]
    },
    {
      "cell_type": "markdown",
      "source": [
        "# Reading Tabular Data into DataFrames"
      ],
      "metadata": {
        "id": "bD_edcn0HPQP"
      },
      "id": "bD_edcn0HPQP"
    },
    {
      "cell_type": "code",
      "source": [
        "import pathlib\n",
        "import requests\n",
        "import zipfile\n",
        "\n",
        "\n",
        "DATA_DIR = pathlib.Path(\"./\")\n",
        "DATA_DIR.mkdir(parents=True, exist_ok=True)\n",
        "URL = \"https://swcarpentry.github.io/python-novice-gapminder/files/python-novice-gapminder-data.zip\"\n",
        "\n",
        "with open(DATA_DIR / \"python-novice-gapminder-data.zip\", 'wb') as f:\n",
        "    response = requests.get(URL)\n",
        "    f.write(response.content)\n",
        "\n",
        "with zipfile.ZipFile(DATA_DIR / \"python-novice-gapminder-data.zip\", \"r\") as f:\n",
        "    f.extractall(DATA_DIR)"
      ],
      "metadata": {
        "id": "MNgl5g4K4af_"
      },
      "id": "MNgl5g4K4af_",
      "execution_count": 152,
      "outputs": []
    },
    {
      "cell_type": "code",
      "source": [
        "%%bash\n",
        "\n",
        "ls ./data"
      ],
      "metadata": {
        "colab": {
          "base_uri": "https://localhost:8080/"
        },
        "id": "q6i7zJEOIQYP",
        "outputId": "ccafd9b3-de62-4e84-cee8-7e8b9b584786"
      },
      "id": "q6i7zJEOIQYP",
      "execution_count": 154,
      "outputs": [
        {
          "output_type": "stream",
          "name": "stdout",
          "text": [
            "gapminder_all.csv\n",
            "gapminder_gdp_africa.csv\n",
            "gapminder_gdp_americas.csv\n",
            "gapminder_gdp_asia.csv\n",
            "gapminder_gdp_europe.csv\n",
            "gapminder_gdp_oceania.csv\n"
          ]
        }
      ]
    },
    {
      "cell_type": "code",
      "source": [
        ""
      ],
      "metadata": {
        "id": "sJcJCIvfIK8H"
      },
      "id": "sJcJCIvfIK8H",
      "execution_count": null,
      "outputs": []
    }
  ],
  "metadata": {
    "kernelspec": {
      "display_name": "Python 3 (ipykernel)",
      "language": "python",
      "name": "python3"
    },
    "language_info": {
      "codemirror_mode": {
        "name": "ipython",
        "version": 3
      },
      "file_extension": ".py",
      "mimetype": "text/x-python",
      "name": "python",
      "nbconvert_exporter": "python",
      "pygments_lexer": "ipython3",
      "version": "3.9.12"
    },
    "colab": {
      "provenance": [],
      "include_colab_link": true
    }
  },
  "nbformat": 4,
  "nbformat_minor": 5
}